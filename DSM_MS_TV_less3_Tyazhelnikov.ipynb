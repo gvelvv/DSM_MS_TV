{
 "cells": [
  {
   "cell_type": "markdown",
   "id": "07812755",
   "metadata": {},
   "source": [
    "1. Даны значения зарплат из выборки выпускников: 100, 80, 75, 77, 89, 33, 45, 25, 65, 17, 30, 24, 57, 55, 70, 75, 65, 84, 90, 150. Посчитать (желательно без использования статистических методов наподобие std, var, mean) среднее арифметическое, среднее квадратичное отклонение, смещенную и несмещенную оценки дисперсий для данной выборки"
   ]
  },
  {
   "cell_type": "code",
   "execution_count": 21,
   "id": "4b573174",
   "metadata": {},
   "outputs": [],
   "source": [
    "import numpy as np\n",
    "from math import factorial"
   ]
  },
  {
   "cell_type": "code",
   "execution_count": 23,
   "id": "83c900b5",
   "metadata": {},
   "outputs": [],
   "source": [
    "def comb(n, k):\n",
    "    return int(factorial(n) / (factorial(k) * factorial(n - k)))"
   ]
  },
  {
   "cell_type": "code",
   "execution_count": 2,
   "id": "17f69c1b",
   "metadata": {},
   "outputs": [
    {
     "data": {
      "text/plain": [
       "array([100,  80,  75,  77,  89,  33,  45,  25,  65,  17,  30,  24,  57,\n",
       "        55,  70,  75,  65,  84,  90, 150])"
      ]
     },
     "execution_count": 2,
     "metadata": {},
     "output_type": "execute_result"
    }
   ],
   "source": [
    "a = np.array([100, 80, 75, 77, 89, 33, 45, 25, 65, 17, 30, 24, 57, 55, 70, 75, 65, 84, 90, 150])\n",
    "a"
   ]
  },
  {
   "cell_type": "code",
   "execution_count": 3,
   "id": "75ce4ee8",
   "metadata": {},
   "outputs": [
    {
     "data": {
      "text/plain": [
       "20"
      ]
     },
     "execution_count": 3,
     "metadata": {},
     "output_type": "execute_result"
    }
   ],
   "source": [
    "n_1 = len(a)\n",
    "n_1"
   ]
  },
  {
   "cell_type": "code",
   "execution_count": 4,
   "id": "0410532e",
   "metadata": {},
   "outputs": [
    {
     "data": {
      "text/plain": [
       "array([ 17,  24,  25,  30,  33,  45,  55,  57,  65,  65,  70,  75,  75,\n",
       "        77,  80,  84,  89,  90, 100, 150])"
      ]
     },
     "execution_count": 4,
     "metadata": {},
     "output_type": "execute_result"
    }
   ],
   "source": [
    "a.sort()\n",
    "a"
   ]
  },
  {
   "cell_type": "code",
   "execution_count": 20,
   "id": "56592254",
   "metadata": {},
   "outputs": [
    {
     "name": "stdout",
     "output_type": "stream",
     "text": [
      "average =  65.3\n",
      "standart deviation =  30.823854398825596\n",
      "bias var =  950.11\n",
      "unbias var =  1000.1157894736842\n"
     ]
    }
   ],
   "source": [
    "aver = sum(a)/n_1\n",
    "sum_dev = 0\n",
    "for i in a:\n",
    "    j = (i - aver)**2\n",
    "    sum_dev = sum_dev + j\n",
    "st_dev = np.sqrt(sum_dev / n_1)\n",
    "bias_var = sum_dev / n_1\n",
    "unbias_var = sum_dev / (n_1 - 1)\n",
    "print('average = ', aver)\n",
    "print('standart deviation = ', st_dev)\n",
    "print('bias var = ', bias_var)\n",
    "print('unbias var = ', unbias_var)"
   ]
  },
  {
   "cell_type": "markdown",
   "id": "33bf38e1",
   "metadata": {},
   "source": [
    "2. В первом ящике находится 8 мячей, из которых 5 - белые. Во втором ящике - 12 мячей, из которых 5 белых. Из первого ящика вытаскивают случайным образом два мяча, из второго - 4. Какова вероятность того, что 3 мяча белые?"
   ]
  },
  {
   "cell_type": "code",
   "execution_count": 26,
   "id": "cdabf6be",
   "metadata": {},
   "outputs": [
    {
     "data": {
      "text/plain": [
       "0.20202020202020202"
      ]
     },
     "execution_count": 26,
     "metadata": {},
     "output_type": "execute_result"
    }
   ],
   "source": [
    "# w, w : w, b, b, b\n",
    "# w, b : w, w, b, b\n",
    "# b, b : w, w, w, b\n",
    "b1 = comb(5, 2) / comb(8, 2) * (comb(5, 1) * comb(8, 3)) / comb(12, 4)\n",
    "b1"
   ]
  },
  {
   "cell_type": "code",
   "execution_count": 27,
   "id": "a03858a3",
   "metadata": {},
   "outputs": [
    {
     "data": {
      "text/plain": [
       "0.30303030303030304"
      ]
     },
     "execution_count": 27,
     "metadata": {},
     "output_type": "execute_result"
    }
   ],
   "source": [
    "b2 = (comb(5, 1) * comb(3, 1) / comb(8, 2)) * (comb(5, 2) * comb(8, 2)) / comb(12, 4)\n",
    "b2"
   ]
  },
  {
   "cell_type": "code",
   "execution_count": 28,
   "id": "437a5d02",
   "metadata": {},
   "outputs": [
    {
     "data": {
      "text/plain": [
       "0.017316017316017316"
      ]
     },
     "execution_count": 28,
     "metadata": {},
     "output_type": "execute_result"
    }
   ],
   "source": [
    "b3 = comb(3, 2) / comb(8, 2) * (comb(5, 3) * comb(8, 1)) / comb(12, 4)\n",
    "b3"
   ]
  },
  {
   "cell_type": "code",
   "execution_count": 29,
   "id": "312a34f2",
   "metadata": {},
   "outputs": [
    {
     "data": {
      "text/plain": [
       "0.5223665223665224"
      ]
     },
     "execution_count": 29,
     "metadata": {},
     "output_type": "execute_result"
    }
   ],
   "source": [
    "b = b1 + b2 + b3\n",
    "b"
   ]
  },
  {
   "cell_type": "markdown",
   "id": "596e5334",
   "metadata": {},
   "source": [
    "3. На соревновании по биатлону один из трех спортсменов стреляет и попадает в мишень. Вероятность попадания для первого спортсмена равна 0.9, для второго — 0.8, для третьего — 0.6. Найти вероятность того, что выстрел произведен: a). первым спортсменом б). вторым спортсменом в). третьим спортсменом."
   ]
  },
  {
   "cell_type": "code",
   "execution_count": 34,
   "id": "3993568c",
   "metadata": {},
   "outputs": [
    {
     "data": {
      "text/plain": [
       "0.391304347826087"
      ]
     },
     "execution_count": 34,
     "metadata": {},
     "output_type": "execute_result"
    }
   ],
   "source": [
    "c1 = 0.9/3 / (0.9/3 + 0.8/3 + 0.6/3)\n",
    "c1"
   ]
  },
  {
   "cell_type": "code",
   "execution_count": 35,
   "id": "e3988ae1",
   "metadata": {},
   "outputs": [
    {
     "data": {
      "text/plain": [
       "0.3478260869565218"
      ]
     },
     "execution_count": 35,
     "metadata": {},
     "output_type": "execute_result"
    }
   ],
   "source": [
    "c2 = 0.8/3 / (0.9/3 + 0.8/3 + 0.6/3)\n",
    "c2"
   ]
  },
  {
   "cell_type": "code",
   "execution_count": 36,
   "id": "aa8ece6d",
   "metadata": {},
   "outputs": [
    {
     "data": {
      "text/plain": [
       "0.2608695652173913"
      ]
     },
     "execution_count": 36,
     "metadata": {},
     "output_type": "execute_result"
    }
   ],
   "source": [
    "c3 =  0.6/3 / (0.9/3 + 0.8/3 + 0.6/3)\n",
    "c3"
   ]
  },
  {
   "cell_type": "markdown",
   "id": "0f3c0eb3",
   "metadata": {},
   "source": [
    "4. В университет на факультеты A и B поступило равное количество студентов, а на факультет C студентов поступило столько же, сколько на A и B вместе. Вероятность того, что студент факультета A сдаст первую сессию, равна 0.8. Для студента факультета B эта вероятность равна 0.7, а для студента факультета C - 0.9. Студент сдал первую сессию. Какова вероятность, что он учится: a). на факультете A б). на факультете B в). на факультете C?"
   ]
  },
  {
   "cell_type": "code",
   "execution_count": 40,
   "id": "f0c0e525",
   "metadata": {},
   "outputs": [
    {
     "data": {
      "text/plain": [
       "0.24242424242424246"
      ]
     },
     "execution_count": 40,
     "metadata": {},
     "output_type": "execute_result"
    }
   ],
   "source": [
    "d1 = 0.8/4 / (0.8/4 + 0.7/4 + 0.9/2)\n",
    "d1"
   ]
  },
  {
   "cell_type": "code",
   "execution_count": 41,
   "id": "b52790fa",
   "metadata": {},
   "outputs": [
    {
     "data": {
      "text/plain": [
       "0.21212121212121213"
      ]
     },
     "execution_count": 41,
     "metadata": {},
     "output_type": "execute_result"
    }
   ],
   "source": [
    "d2 = 0.7/4 / (0.8/4 + 0.7/4 + 0.9/2)\n",
    "d2"
   ]
  },
  {
   "cell_type": "code",
   "execution_count": 42,
   "id": "83ff9e71",
   "metadata": {},
   "outputs": [
    {
     "data": {
      "text/plain": [
       "0.5454545454545455"
      ]
     },
     "execution_count": 42,
     "metadata": {},
     "output_type": "execute_result"
    }
   ],
   "source": [
    "d3 = 0.9/2 / (0.8/4 + 0.7/4 + 0.9/2)\n",
    "d3"
   ]
  },
  {
   "cell_type": "markdown",
   "id": "2e9f610f",
   "metadata": {},
   "source": [
    "5. Устройство состоит из трех деталей. Для первой детали вероятность выйти из строя в первый месяц равна 0.1, для второй - 0.2, для третьей - 0.25. Какова вероятность того, что в первый месяц выйдут из строя: а). все детали б). только две детали в). хотя бы одна деталь г). от одной до двух деталей?"
   ]
  },
  {
   "cell_type": "code",
   "execution_count": 46,
   "id": "907b84ba",
   "metadata": {},
   "outputs": [
    {
     "data": {
      "text/plain": [
       "0.005000000000000001"
      ]
     },
     "execution_count": 46,
     "metadata": {},
     "output_type": "execute_result"
    }
   ],
   "source": [
    "x = 0.1\n",
    "y = 0.2\n",
    "z = 0.25\n",
    "e1 = x * y * z\n",
    "e1 #все 3"
   ]
  },
  {
   "cell_type": "code",
   "execution_count": 48,
   "id": "e9715a25",
   "metadata": {},
   "outputs": [
    {
     "data": {
      "text/plain": [
       "0.08000000000000002"
      ]
     },
     "execution_count": 48,
     "metadata": {},
     "output_type": "execute_result"
    }
   ],
   "source": [
    "e2 = x * y * (1 - z) + x * (1 - y) * z + (1 - x) * y * z\n",
    "e2 # ровно две"
   ]
  },
  {
   "cell_type": "code",
   "execution_count": 49,
   "id": "303bd632",
   "metadata": {},
   "outputs": [
    {
     "data": {
      "text/plain": [
       "0.37500000000000006"
      ]
     },
     "execution_count": 49,
     "metadata": {},
     "output_type": "execute_result"
    }
   ],
   "source": [
    "e3 = x * (1 - y) * (1 - z) + (1 - x) * (1 - y) * z + (1 - x) * y * (1 - z)\n",
    "e3 # одна"
   ]
  },
  {
   "cell_type": "code",
   "execution_count": 50,
   "id": "b35395a9",
   "metadata": {},
   "outputs": [
    {
     "data": {
      "text/plain": [
       "0.4600000000000001"
      ]
     },
     "execution_count": 50,
     "metadata": {},
     "output_type": "execute_result"
    }
   ],
   "source": [
    "e4 = e3 + e2 + e1\n",
    "e4 #хотя бы одна"
   ]
  },
  {
   "cell_type": "code",
   "execution_count": 51,
   "id": "04890194",
   "metadata": {},
   "outputs": [
    {
     "data": {
      "text/plain": [
       "0.45500000000000007"
      ]
     },
     "execution_count": 51,
     "metadata": {},
     "output_type": "execute_result"
    }
   ],
   "source": [
    "e5 = e2 + e3\n",
    "e5 #от одной до двух"
   ]
  },
  {
   "cell_type": "code",
   "execution_count": null,
   "id": "e243ece5",
   "metadata": {},
   "outputs": [],
   "source": []
  }
 ],
 "metadata": {
  "kernelspec": {
   "display_name": "Python 3",
   "language": "python",
   "name": "python3"
  },
  "language_info": {
   "codemirror_mode": {
    "name": "ipython",
    "version": 3
   },
   "file_extension": ".py",
   "mimetype": "text/x-python",
   "name": "python",
   "nbconvert_exporter": "python",
   "pygments_lexer": "ipython3",
   "version": "3.8.8"
  }
 },
 "nbformat": 4,
 "nbformat_minor": 5
}
