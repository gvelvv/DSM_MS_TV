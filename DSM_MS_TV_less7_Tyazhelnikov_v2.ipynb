{
 "cells": [
  {
   "cell_type": "markdown",
   "id": "8abf5f5d",
   "metadata": {},
   "source": [
    "1. Даны значения величины заработной платы заемщиков банка (zp) и значения их поведенческого кредитного скоринга (ks): zp = [35, 45, 190, 200, 40, 70, 54, 150, 120, 110], ks = [401, 574, 874, 919, 459, 739, 653, 902, 746, 832]. Используя математические операции, посчитать коэффициенты линейной регрессии, приняв за X заработную плату (то есть, zp - признак), а за y - значения скорингового балла (то есть, ks - целевая переменная). Произвести расчет как с использованием intercept, так и без."
   ]
  },
  {
   "cell_type": "code",
   "execution_count": 3,
   "id": "7bb8774f",
   "metadata": {},
   "outputs": [],
   "source": [
    "import numpy as np\n",
    "import math\n",
    "import matplotlib.pyplot as plt\n",
    "import seaborn as sb"
   ]
  },
  {
   "cell_type": "code",
   "execution_count": 19,
   "id": "c6ccfd39",
   "metadata": {},
   "outputs": [],
   "source": [
    "def mse(b_3, y=ks, x=zp, n=n):\n",
    "    return np.sum((b_3 * x - y)**2)/n"
   ]
  },
  {
   "cell_type": "code",
   "execution_count": 30,
   "id": "8d93e873",
   "metadata": {},
   "outputs": [],
   "source": [
    "def mse_1(beta_0, beta_1, y=ks, x=zp, n=n):\n",
    "    return np.sum((beta_0 + beta_1 * x - y)**2)/n"
   ]
  },
  {
   "cell_type": "code",
   "execution_count": 4,
   "id": "90548fc9",
   "metadata": {},
   "outputs": [],
   "source": [
    "zp = np.array([35, 45, 190, 200, 40, 70, 54, 150, 120, 110])\n",
    "ks = np.array([401, 574, 874, 919, 459, 739, 653, 902, 746, 832])\n",
    "n = len(zp)"
   ]
  },
  {
   "cell_type": "code",
   "execution_count": 5,
   "id": "d3866a20",
   "metadata": {},
   "outputs": [
    {
     "data": {
      "text/plain": [
       "2.6205388824027653"
      ]
     },
     "execution_count": 5,
     "metadata": {},
     "output_type": "execute_result"
    }
   ],
   "source": [
    "a = (n * np.sum(zp * ks) - np.sum(zp) * np.sum(ks)) / (n * np.sum(zp**2) - (np.sum(zp))**2)\n",
    "a"
   ]
  },
  {
   "cell_type": "code",
   "execution_count": 6,
   "id": "cf8799e9",
   "metadata": {},
   "outputs": [],
   "source": [
    "b = np.mean(ks) - a * np.mean(zp)"
   ]
  },
  {
   "cell_type": "code",
   "execution_count": 7,
   "id": "f603d9f3",
   "metadata": {},
   "outputs": [
    {
     "data": {
      "text/plain": [
       "array([535.912, 562.122, 942.167, 968.377, 549.017, 627.647, 585.711,\n",
       "       837.327, 758.697, 732.487])"
      ]
     },
     "execution_count": 7,
     "metadata": {},
     "output_type": "execute_result"
    }
   ],
   "source": [
    "y_hat = 444.177 + 2.621 * zp\n",
    "y_hat"
   ]
  },
  {
   "cell_type": "code",
   "execution_count": 8,
   "id": "edc78853",
   "metadata": {},
   "outputs": [
    {
     "data": {
      "image/png": "[encoded data removed]",
      "text/plain": [
       "<Figure size 432x288 with 1 Axes>"
      ]
     },
     "metadata": {
      "needs_background": "light"
     },
     "output_type": "display_data"
    }
   ],
   "source": [
    "%matplotlib inline\n",
    "plt.scatter(zp, ks)\n",
    "plt.plot(zp, 444.177 + 2.621 * zp)\n",
    "plt.show()"
   ]
  },
  {
   "cell_type": "code",
   "execution_count": 11,
   "id": "90475788",
   "metadata": {},
   "outputs": [
    {
     "data": {
      "text/plain": [
       "array([[444.17735732],\n",
       "       [  2.62053888]])"
      ]
     },
     "execution_count": 11,
     "metadata": {},
     "output_type": "execute_result"
    }
   ],
   "source": [
    "x_1 = zp.reshape(10, 1)\n",
    "y_1 = ks.reshape(10, 1)\n",
    "x_1 = np.hstack([np.ones((10,1)), x_1])\n",
    "b_1 = np.dot(np.linalg.inv(np.dot(x_1.T,x_1)), x_1.T@y_1)\n",
    "b_1"
   ]
  },
  {
   "cell_type": "code",
   "execution_count": 14,
   "id": "76fff33d",
   "metadata": {},
   "outputs": [
    {
     "data": {
      "text/plain": [
       "array([[5.88982042]])"
      ]
     },
     "execution_count": 14,
     "metadata": {},
     "output_type": "execute_result"
    }
   ],
   "source": [
    "x_2 = zp.reshape(10, 1)\n",
    "y_2 = ks.reshape(10, 1)\n",
    "b_2 = np.dot(np.linalg.inv(np.dot(x_2.T,x_2)), x_2.T@y_2)\n",
    "b_2"
   ]
  },
  {
   "cell_type": "markdown",
   "id": "935d284f",
   "metadata": {},
   "source": [
    "2. Посчитать коэффициент линейной регрессии при заработной плате (zp), используя градиентный спуск (без intercept)."
   ]
  },
  {
   "cell_type": "code",
   "execution_count": 52,
   "id": "cde1f39f",
   "metadata": {},
   "outputs": [],
   "source": [
    "alpha = 6e-6\n",
    "alpha_1 = 7e-5\n",
    "b_3 = 0.1\n",
    "beta_1 = 0.1\n",
    "beta_0 = 0.1"
   ]
  },
  {
   "cell_type": "code",
   "execution_count": 29,
   "id": "ff93f622",
   "metadata": {},
   "outputs": [
    {
     "name": "stdout",
     "output_type": "stream",
     "text": [
      "iter 0, b = 1.05716848, mse = 378262.8044236586\n",
      "iter 10, b = 5.096607547510395, mse = 65184.91137369834\n",
      "iter 20, b = 5.7596255149154025, mse = 56750.38161318177\n",
      "iter 30, b = 5.868450729940318, mse = 56523.149688282865\n",
      "iter 40, b = 5.8863128815069965, mse = 56517.02790684877\n",
      "iter 50, b = 5.889244706254763, mse = 56516.86298192482\n",
      "iter 60, b = 5.88972592467459, mse = 56516.85853873605\n",
      "iter 70, b = 5.889804910012222, mse = 56516.85841903356\n",
      "iter 80, b = 5.889817874361266, mse = 56516.85841580869\n",
      "iter 90, b = 5.889820002279575, mse = 56516.85841572182\n"
     ]
    }
   ],
   "source": [
    "for i in range(100):\n",
    "    b_3 -= alpha * (2 / n) * np.sum((b_3 * zp - ks) * zp)\n",
    "    if i%10 == 0:\n",
    "        print('iter {i}, b = {b_3}, mse = {mse}'.format(i = i, b_3 = b_3, mse = mse(b_3)))"
   ]
  },
  {
   "cell_type": "markdown",
   "id": "fe465fb9",
   "metadata": {},
   "source": [
    "3. В каких случаях для вычисления доверительных интервалов и проверки статистических гипотез используется таблица значений функции Лапласа, а в каких - таблица критических точек распределения Стьюдента?"
   ]
  },
  {
   "cell_type": "markdown",
   "id": "98d48e3a",
   "metadata": {},
   "source": [
    "Функция Лапласа применяется тогда, когда необходимо рассчитать вероятность того, что наша случайная велечина попадет в какой то диапазон.\n",
    "Таблица Стьюдента используется при проверке гипотез о среднем значении, о различии между двумя средними и о пропорциональности значений"
   ]
  },
  {
   "cell_type": "markdown",
   "id": "647a7ed8",
   "metadata": {},
   "source": [
    "4. Произвести вычисления как в пункте 2, но с вычислением intercept. Учесть, что изменение коэффициентов должно производиться на каждом шаге одновременно (то есть изменение одного коэффициента не должно влиять на изменение другого во время одной итерации)."
   ]
  },
  {
   "cell_type": "code",
   "execution_count": 57,
   "id": "d1b9bfde",
   "metadata": {},
   "outputs": [
    {
     "name": "stdout",
     "output_type": "stream",
     "text": [
      "iter 0, b0 = 444.15604114744383 b1 = 2.62069577888959, mse = 6470.414316436769\n",
      "iter 10000, b0 = 444.1624133044404 b1 = 2.6206488769967127, mse = 6470.414257826053\n",
      "iter 20000, b0 = 444.1668805989958 b1 = 2.6206159957336186, mse = 6470.414229019368\n",
      "iter 30000, b0 = 444.1700124616698 b1 = 2.6205929438396156, mse = 6470.414214861121\n",
      "iter 40000, b0 = 444.17220810014334 b1 = 2.6205767829696724, mse = 6470.4142079024605\n",
      "iter 50000, b0 = 444.17374738484745 b1 = 2.6205654531536724, mse = 6470.414204482331\n",
      "iter 60000, b0 = 444.17482652307166 b1 = 2.620557510219211, mse = 6470.4142028013675\n",
      "iter 70000, b0 = 444.1755830688274 b1 = 2.62055194170795, mse = 6470.414201975194\n",
      "iter 80000, b0 = 444.17611345637334 b1 = 2.620548037821106, mse = 6470.414201569132\n",
      "iter 90000, b0 = 444.1764852923804 b1 = 2.620545300943692, mse = 6470.4142013695555\n",
      "iter 100000, b0 = 444.17674597349225 b1 = 2.6205433822154505, mse = 6470.414201271466\n",
      "iter 110000, b0 = 444.17692872782624 b1 = 2.6205420370627506, mse = 6470.414201223256\n",
      "iter 120000, b0 = 444.1770568504457 b1 = 2.6205410940236225, mse = 6470.414201199559\n",
      "iter 130000, b0 = 444.1771466726941 b1 = 2.6205404328921595, mse = 6470.414201187914\n"
     ]
    }
   ],
   "source": [
    "for j in range(140000):\n",
    "    beta_1 -= alpha_1 * (2 / n) * np.sum((beta_0 + beta_1 * zp - ks) * zp)\n",
    "    beta_0 -= alpha_1 * (2 / n) * np.sum((beta_0 + beta_1 * zp - ks))\n",
    "    if j%10000 == 0:\n",
    "        print('iter {j}, b0 = {beta_0} b1 = {beta_1}, mse = {mse_1}'.format(j = j, beta_0=beta_0, beta_1 = beta_1, mse_1 = mse_1(beta_0, beta_1)))"
   ]
  },
  {
   "cell_type": "code",
   "execution_count": null,
   "id": "d38eb685",
   "metadata": {},
   "outputs": [],
   "source": []
  }
 ],
 "metadata": {
  "kernelspec": {
   "display_name": "Python 3",
   "language": "python",
   "name": "python3"
  },
  "language_info": {
   "codemirror_mode": {
    "name": "ipython",
    "version": 3
   },
   "file_extension": ".py",
   "mimetype": "text/x-python",
   "name": "python",
   "nbconvert_exporter": "python",
   "pygments_lexer": "ipython3",
   "version": "3.8.8"
  }
 },
 "nbformat": 4,
 "nbformat_minor": 5
}
