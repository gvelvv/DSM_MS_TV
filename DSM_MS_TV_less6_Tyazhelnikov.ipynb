{
 "cells": [
  {
   "cell_type": "markdown",
   "id": "ebae0015",
   "metadata": {},
   "source": [
    "1. Даны значения величины заработной платы заемщиков банка (zp) и значения их поведенческого кредитного скоринга (ks):\n",
    "zp = [35, 45, 190, 200, 40, 70, 54, 150, 120, 110],\n",
    "ks = [401, 574, 874, 919, 459, 739, 653, 902, 746, 832].\n",
    "Найдите ковариацию этих двух величин с помощью элементарных действий, а затем с помощью функции cov из numpy\n",
    "Полученные значения должны быть равны.\n",
    "Найдите коэффициент корреляции Пирсона с помощью ковариации и среднеквадратичных отклонений двух признаков,\n",
    "а затем с использованием функций из библиотек numpy и pandas."
   ]
  },
  {
   "cell_type": "code",
   "execution_count": 23,
   "id": "9e68f808",
   "metadata": {},
   "outputs": [],
   "source": [
    "import numpy as np\n",
    "import pandas as pd\n",
    "import math"
   ]
  },
  {
   "cell_type": "code",
   "execution_count": 6,
   "id": "98550bdb",
   "metadata": {},
   "outputs": [
    {
     "data": {
      "text/plain": [
       "9157.839999999997"
      ]
     },
     "execution_count": 6,
     "metadata": {},
     "output_type": "execute_result"
    }
   ],
   "source": [
    "zp = np.array([35, 45, 190, 200, 40, 70, 54, 150, 120, 110])\n",
    "ks = np.array([401, 574, 874, 919, 459, 739, 653, 902, 746, 832])\n",
    "m_cov_1 = np.mean(zp * ks) - (np.mean(zp) * np.mean(ks))\n",
    "m_cov_1"
   ]
  },
  {
   "cell_type": "code",
   "execution_count": 8,
   "id": "0788601d",
   "metadata": {},
   "outputs": [
    {
     "data": {
      "text/plain": [
       "array([[ 3494.64,  9157.84],\n",
       "       [ 9157.84, 30468.89]])"
      ]
     },
     "execution_count": 8,
     "metadata": {},
     "output_type": "execute_result"
    }
   ],
   "source": [
    "m_cov_2 = np.cov(zp, ks, ddof=0)\n",
    "m_cov_2"
   ]
  },
  {
   "cell_type": "code",
   "execution_count": 10,
   "id": "e154be40",
   "metadata": {},
   "outputs": [
    {
     "data": {
      "text/plain": [
       "0.8874900920739158"
      ]
     },
     "execution_count": 10,
     "metadata": {},
     "output_type": "execute_result"
    }
   ],
   "source": [
    "r_1 = m_cov_1 / (np.std(zp) * np.std(ks))\n",
    "r_1"
   ]
  },
  {
   "cell_type": "code",
   "execution_count": 11,
   "id": "94a3b372",
   "metadata": {},
   "outputs": [
    {
     "data": {
      "text/plain": [
       "array([[1.        , 0.88749009],\n",
       "       [0.88749009, 1.        ]])"
      ]
     },
     "execution_count": 11,
     "metadata": {},
     "output_type": "execute_result"
    }
   ],
   "source": [
    "r_2 = np.corrcoef(zp, ks)\n",
    "r_2"
   ]
  },
  {
   "cell_type": "code",
   "execution_count": 20,
   "id": "da8219fc",
   "metadata": {},
   "outputs": [
    {
     "data": {
      "text/plain": [
       "0    0.88749\n",
       "dtype: float64"
      ]
     },
     "execution_count": 20,
     "metadata": {},
     "output_type": "execute_result"
    }
   ],
   "source": [
    "zp_1 = pd.DataFrame(zp)\n",
    "ks_1 = pd.DataFrame(ks)\n",
    "r_3 = zp_1.corrwith(ks_1)\n",
    "r_3"
   ]
  },
  {
   "cell_type": "markdown",
   "id": "4647892d",
   "metadata": {},
   "source": [
    "2. Измерены значения IQ выборки студентов,\n",
    "обучающихся в местных технических вузах:\n",
    "131, 125, 115, 122, 131, 115, 107, 99, 125, 111.\n",
    "Известно, что в генеральной совокупности IQ распределен нормально.\n",
    "Найдите доверительный интервал для математического ожидания с надежностью 0.95."
   ]
  },
  {
   "cell_type": "code",
   "execution_count": 24,
   "id": "77f0cb3f",
   "metadata": {},
   "outputs": [
    {
     "name": "stdout",
     "output_type": "stream",
     "text": [
      "confidence interval 110.55660776308164 - 125.64339223691834\n"
     ]
    }
   ],
   "source": [
    "b = np.array([131, 125, 115, 122, 131, 115, 107, 99, 125, 111])\n",
    "b_aver = np.average(b)\n",
    "b_aver\n",
    "b_std = np.std(b, ddof=1)\n",
    "b_std\n",
    "b_1 = b_aver - 2.262 * b_std/math.sqrt(10)\n",
    "b_2 = b_aver + 2.262 * b_std/math.sqrt(10)\n",
    "print(f'confidence interval {b_1} - {b_2}')"
   ]
  },
  {
   "cell_type": "markdown",
   "id": "c0cf0b7b",
   "metadata": {},
   "source": [
    "3. Известно, что рост футболистов в сборной распределен нормально\n",
    "с дисперсией генеральной совокупности, равной 25 кв.см. Объем выборки равен 27,\n",
    "среднее выборочное составляет 174.2. Найдите доверительный интервал для математического"
   ]
  },
  {
   "cell_type": "code",
   "execution_count": 26,
   "id": "f6ea3a92",
   "metadata": {},
   "outputs": [
    {
     "name": "stdout",
     "output_type": "stream",
     "text": [
      "confidence interval with reliability 0.95 - 172.31398912064722 - 176.08601087935276\n"
     ]
    }
   ],
   "source": [
    "a_1 = 174.2 - 1.96 * 5/math.sqrt(27)\n",
    "a_2 = 174.2 + 1.96 * 5/math.sqrt(27)\n",
    "print(f'confidence interval with reliability 0.95 - {a_1} - {a_2}')"
   ]
  },
  {
   "cell_type": "code",
   "execution_count": null,
   "id": "291aa26e",
   "metadata": {},
   "outputs": [],
   "source": []
  }
 ],
 "metadata": {
  "kernelspec": {
   "display_name": "Python 3",
   "language": "python",
   "name": "python3"
  },
  "language_info": {
   "codemirror_mode": {
    "name": "ipython",
    "version": 3
   },
   "file_extension": ".py",
   "mimetype": "text/x-python",
   "name": "python",
   "nbconvert_exporter": "python",
   "pygments_lexer": "ipython3",
   "version": "3.8.8"
  }
 },
 "nbformat": 4,
 "nbformat_minor": 5
}
