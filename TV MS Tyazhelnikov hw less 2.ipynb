{
 "cells": [
  {
   "cell_type": "markdown",
   "id": "6c69b156",
   "metadata": {},
   "source": [
    "1. Вероятность того, что стрелок попадет в мишень, выстрелив один раз, равна 0.8. Стрелок выстрелил 100 раз. Найдите вероятность того, что стрелок попадет в цель ровно 85 раз."
   ]
  },
  {
   "cell_type": "code",
   "execution_count": 5,
   "id": "7f827718",
   "metadata": {},
   "outputs": [],
   "source": [
    "from math import factorial\n",
    "import math"
   ]
  },
  {
   "cell_type": "code",
   "execution_count": 4,
   "id": "191cc960",
   "metadata": {},
   "outputs": [
    {
     "data": {
      "text/plain": [
       "0.04806179370074656"
      ]
     },
     "execution_count": 4,
     "metadata": {},
     "output_type": "execute_result"
    }
   ],
   "source": [
    "C_85_100 = factorial(100) * 0.8**85 * 0.2**15 / (factorial(85) * factorial(100 - 85))\n",
    "C_85_100"
   ]
  },
  {
   "cell_type": "markdown",
   "id": "20f96cd0",
   "metadata": {},
   "source": [
    "2. Вероятность того, что лампочка перегорит в течение первого дня эксплуатации, равна 0.0004. В жилом комплексе после ремонта в один день включили 5000 новых лампочек. Какова вероятность, что ни одна из них не перегорит в первый день? Какова вероятность, что перегорят ровно две?"
   ]
  },
  {
   "cell_type": "code",
   "execution_count": 6,
   "id": "1a24b6e5",
   "metadata": {},
   "outputs": [
    {
     "data": {
      "text/plain": [
       "0.1353352832366127"
      ]
     },
     "execution_count": 6,
     "metadata": {},
     "output_type": "execute_result"
    }
   ],
   "source": [
    "lam = 5000 * 0.0004\n",
    "P_m0 = (lam**0 * math.exp(-lam)) / factorial(0)\n",
    "P_m0"
   ]
  },
  {
   "cell_type": "code",
   "execution_count": 7,
   "id": "48be5ac8",
   "metadata": {},
   "outputs": [
    {
     "data": {
      "text/plain": [
       "0.2706705664732254"
      ]
     },
     "execution_count": 7,
     "metadata": {},
     "output_type": "execute_result"
    }
   ],
   "source": [
    "P_m2 = (lam**2 * math.exp(-lam)) / factorial(2)\n",
    "P_m2"
   ]
  },
  {
   "cell_type": "markdown",
   "id": "01b706ac",
   "metadata": {},
   "source": [
    "3. Монету подбросили 144 раза. Какова вероятность, что орел выпадет ровно 70 раз?"
   ]
  },
  {
   "cell_type": "code",
   "execution_count": 8,
   "id": "4e95aa78",
   "metadata": {},
   "outputs": [
    {
     "data": {
      "text/plain": [
       "0.06281178035144776"
      ]
     },
     "execution_count": 8,
     "metadata": {},
     "output_type": "execute_result"
    }
   ],
   "source": [
    "C_70_144 = factorial(144) * 0.5**70 * 0.5**(144-70) / (factorial(70) * factorial(144 - 70))\n",
    "C_70_144"
   ]
  },
  {
   "cell_type": "markdown",
   "id": "d1736091",
   "metadata": {},
   "source": [
    "4. В первом ящике находится 10 мячей, из которых 7 - белые. Во втором ящике - 11 мячей, из которых 9 белых. Из каждого ящика вытаскивают случайным образом по два мяча. Какова вероятность того, что все мячи белые? Какова вероятность того, что ровно два мяча белые? Какова вероятность того, что хотя бы один мяч белый?"
   ]
  },
  {
   "cell_type": "code",
   "execution_count": 9,
   "id": "626bb9ad",
   "metadata": {},
   "outputs": [
    {
     "data": {
      "text/plain": [
       "0.3054545454545454"
      ]
     },
     "execution_count": 9,
     "metadata": {},
     "output_type": "execute_result"
    }
   ],
   "source": [
    "C_all = 7/10 * 6/9 * 9/11 * 8/10\n",
    "C_all"
   ]
  },
  {
   "cell_type": "code",
   "execution_count": 11,
   "id": "c58602f6",
   "metadata": {},
   "outputs": [
    {
     "data": {
      "text/plain": [
       "6.0"
      ]
     },
     "execution_count": 11,
     "metadata": {},
     "output_type": "execute_result"
    }
   ],
   "source": [
    "C_2_4_w = factorial(4) / (factorial(2) * factorial(4-2)) # 2 из 4 белые\n",
    "C_2_4_w"
   ]
  },
  {
   "cell_type": "code",
   "execution_count": 23,
   "id": "9eb5a03c",
   "metadata": {},
   "outputs": [
    {
     "data": {
      "text/plain": [
       "0.20484848484848484"
      ]
     },
     "execution_count": 23,
     "metadata": {},
     "output_type": "execute_result"
    }
   ],
   "source": [
    "# два белых\n",
    "C1 = 7/10 * 6/9 * 2/11 * 1/10 # оба белых из первой корзины\n",
    "C2 = 9/11 * 8/10 * 3/10 * 2/9 # оба белых из второй корзины\n",
    "C3 = 7/10 * 3/9 * 9/11 * 2/10 # w, nw, w, nw (белый, не белый, белый, не белый)\n",
    "C4 = 7/10 * 3/9 * 2/11 * 9/10 # w, nw, nw, w\n",
    "C5 = 3/10 * 7/9 * 9/11 * 2/10 # nw, w, w, nw\n",
    "C6 = 3/10 * 7/9 * 2/11 * 9/10 # nw, w, nw, w\n",
    "C_2 = C1 + C2 + C3 + C4 + C5 + C6\n",
    "C_2"
   ]
  },
  {
   "cell_type": "code",
   "execution_count": 13,
   "id": "6312978f",
   "metadata": {},
   "outputs": [
    {
     "data": {
      "text/plain": [
       "0.030303030303030304"
      ]
     },
     "execution_count": 13,
     "metadata": {},
     "output_type": "execute_result"
    }
   ],
   "source": [
    "#один белый\n",
    "C1w = 7/10 * 3/9 * 2/11 * 1/10 #первым вытянут белый\n",
    "C2w = 3/10 * 7/9 * 2/11 * 1/10 #вторым вытянут белый\n",
    "C3w = 3/10 * 2/9 * 9/11 * 2/10\n",
    "C4w = 3/10 * 2/9 * 2/11 * 9/10\n",
    "C_1 = C1w + C2w + C3w + C4w\n",
    "C_1"
   ]
  },
  {
   "cell_type": "code",
   "execution_count": 14,
   "id": "55f770d4",
   "metadata": {},
   "outputs": [
    {
     "data": {
      "text/plain": [
       "4.0"
      ]
     },
     "execution_count": 14,
     "metadata": {},
     "output_type": "execute_result"
    }
   ],
   "source": [
    "C_3_4_w = factorial(4) / (factorial(3) * factorial(4-3)) # 3 из 4 белые\n",
    "C_3_4_w"
   ]
  },
  {
   "cell_type": "code",
   "execution_count": 15,
   "id": "6553392e",
   "metadata": {},
   "outputs": [
    {
     "data": {
      "text/plain": [
       "0.44969696969696965"
      ]
     },
     "execution_count": 15,
     "metadata": {},
     "output_type": "execute_result"
    }
   ],
   "source": [
    "#один не белый\n",
    "C1nw = 3/10 * 7/9 * 9/11 * 8/10 #первым вытянут не белый\n",
    "C2nw = 7/10 * 3/9 * 9/11 * 8/10 #вторым вытянут не белый\n",
    "C3nw = 7/10 * 6/9 * 2/11 * 8/10\n",
    "C4nw = 7/10 * 6/9 * 9/11 * 2/10\n",
    "C_3 = C1nw + C2nw + C3nw + C4nw\n",
    "C_3"
   ]
  },
  {
   "cell_type": "code",
   "execution_count": 24,
   "id": "68b9a8c1",
   "metadata": {},
   "outputs": [
    {
     "data": {
      "text/plain": [
       "0.9903030303030302"
      ]
     },
     "execution_count": 24,
     "metadata": {},
     "output_type": "execute_result"
    }
   ],
   "source": [
    "C_1_2_3 = C_1 + C_2 + C_3 + C_all\n",
    "C_1_2_3"
   ]
  },
  {
   "cell_type": "code",
   "execution_count": null,
   "id": "5f1dc061",
   "metadata": {},
   "outputs": [],
   "source": []
  }
 ],
 "metadata": {
  "kernelspec": {
   "display_name": "Python 3",
   "language": "python",
   "name": "python3"
  },
  "language_info": {
   "codemirror_mode": {
    "name": "ipython",
    "version": 3
   },
   "file_extension": ".py",
   "mimetype": "text/x-python",
   "name": "python",
   "nbconvert_exporter": "python",
   "pygments_lexer": "ipython3",
   "version": "3.8.8"
  }
 },
 "nbformat": 4,
 "nbformat_minor": 5
}
