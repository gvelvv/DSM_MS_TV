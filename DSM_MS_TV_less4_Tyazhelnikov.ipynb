{
 "cells": [
  {
   "cell_type": "markdown",
   "id": "8d4226ab",
   "metadata": {},
   "source": [
    "1. Случайная непрерывная величина A имеет равномерное распределение на промежутке (200, 800]. Найдите ее среднее значение и дисперсию."
   ]
  },
  {
   "cell_type": "code",
   "execution_count": 61,
   "id": "0ee402fe",
   "metadata": {},
   "outputs": [],
   "source": [
    "import numpy as np\n",
    "import math as math\n",
    "import scipy.stats"
   ]
  },
  {
   "cell_type": "markdown",
   "id": "0202d6c2",
   "metadata": {},
   "source": [
    "\"M(X)\" = 200 + 800 / 2 = 500"
   ]
  },
  {
   "cell_type": "code",
   "execution_count": 3,
   "id": "168611ce",
   "metadata": {},
   "outputs": [
    {
     "data": {
      "text/plain": [
       "30000.0"
      ]
     },
     "execution_count": 3,
     "metadata": {},
     "output_type": "execute_result"
    }
   ],
   "source": [
    "a = (800 - 200)**2 / 12\n",
    "a"
   ]
  },
  {
   "cell_type": "markdown",
   "id": "253bba37",
   "metadata": {},
   "source": [
    "2. О случайной непрерывной равномерно распределенной величине B известно, что ее дисперсия равна 0.2. Можно ли найти правую границу величины B и ее среднее значение зная, что левая граница равна 0.5? Если да, найдите ее."
   ]
  },
  {
   "cell_type": "code",
   "execution_count": 9,
   "id": "de44aa41",
   "metadata": {},
   "outputs": [
    {
     "data": {
      "text/plain": [
       "2.049193338482967"
      ]
     },
     "execution_count": 9,
     "metadata": {},
     "output_type": "execute_result"
    }
   ],
   "source": [
    "# 0.2 = (b - 0.5)**2 / 12\n",
    "b = np.sqrt(12 * 0.2) + 0.5\n",
    "b"
   ]
  },
  {
   "cell_type": "code",
   "execution_count": 8,
   "id": "df7ecaae",
   "metadata": {},
   "outputs": [
    {
     "data": {
      "text/plain": [
       "1.2745966692414834"
      ]
     },
     "execution_count": 8,
     "metadata": {},
     "output_type": "execute_result"
    }
   ],
   "source": [
    "b_aver = (0.5 + b) / 2\n",
    "b_aver"
   ]
  },
  {
   "cell_type": "markdown",
   "id": "359790f2",
   "metadata": {},
   "source": [
    "3. Непрерывная случайная величина X распределена нормально и задана плотностью распределения\n",
    "f(x) = (1 / (4 * sqrt(2*pi))) * (exp(-(x+2)**2) / 32).\n",
    "Найдите:\n",
    "а). M(X)\n",
    "б). D(X)\n",
    "в). std(X) (среднее квадратичное отклонение)"
   ]
  },
  {
   "cell_type": "markdown",
   "id": "327eb1d5",
   "metadata": {},
   "source": [
    "M(X) = -2\n",
    "D(X) = 16\n",
    "std(X) = 4"
   ]
  },
  {
   "cell_type": "markdown",
   "id": "0785a77e",
   "metadata": {},
   "source": [
    "4. Рост взрослого населения города X имеет нормальное распределение.\n",
    "Причем, средний рост равен 174 см, а среднее квадратичное отклонение равно 8 см.\n",
    "Какова вероятность того, что случайным образом выбранный взрослый человек имеет рост:\n",
    "а). больше 182 см\n",
    "б). больше 190 см\n",
    "в). от 166 см до 190 см\n",
    "г). от 166 см до 182 см\n",
    "д). от 158 см до 190 см\n",
    "е). не выше 150 см или не ниже 190 см\n",
    "ё). не выше 150 см или не ниже 198 см\n",
    "ж). ниже 166 см."
   ]
  },
  {
   "cell_type": "code",
   "execution_count": 82,
   "id": "ed4ed96f",
   "metadata": {},
   "outputs": [],
   "source": [
    "def gauss(n):\n",
    "    return 1 / np.sqrt(2*math.pi*64) * math.exp(-(n - 174)**2 / 132)"
   ]
  },
  {
   "cell_type": "code",
   "execution_count": 83,
   "id": "16ae0186",
   "metadata": {},
   "outputs": [
    {
     "data": {
      "text/plain": [
       "0.9692918921446091"
      ]
     },
     "execution_count": 83,
     "metadata": {},
     "output_type": "execute_result"
    }
   ],
   "source": [
    "c_a = 1 - gauss(182)\n",
    "c_a # дает неверный ответ, объясните почему (через таблицу не интересно)"
   ]
  },
  {
   "cell_type": "code",
   "execution_count": 87,
   "id": "e9f15f05",
   "metadata": {},
   "outputs": [
    {
     "data": {
      "text/plain": [
       "0.15865525393145707"
      ]
     },
     "execution_count": 87,
     "metadata": {},
     "output_type": "execute_result"
    }
   ],
   "source": [
    "c_a_correct = 1 - scipy.stats.norm.cdf(182, 174, 8)\n",
    "c_a_correct"
   ]
  },
  {
   "cell_type": "code",
   "execution_count": 89,
   "id": "1ef73429",
   "metadata": {},
   "outputs": [
    {
     "data": {
      "text/plain": [
       "0.02275013194817921"
      ]
     },
     "execution_count": 89,
     "metadata": {},
     "output_type": "execute_result"
    }
   ],
   "source": [
    "c_b = 1 - scipy.stats.norm.cdf(190, 174, 8)\n",
    "c_b"
   ]
  },
  {
   "cell_type": "code",
   "execution_count": 92,
   "id": "6ad6f427",
   "metadata": {},
   "outputs": [
    {
     "data": {
      "text/plain": [
       "0.8185946141203637"
      ]
     },
     "execution_count": 92,
     "metadata": {},
     "output_type": "execute_result"
    }
   ],
   "source": [
    "c_c = scipy.stats.norm.cdf(190, 174, 8) - scipy.stats.norm.cdf(166, 174, 8)\n",
    "c_c"
   ]
  },
  {
   "cell_type": "code",
   "execution_count": 94,
   "id": "eefb55e8",
   "metadata": {},
   "outputs": [
    {
     "data": {
      "text/plain": [
       "0.6826894921370859"
      ]
     },
     "execution_count": 94,
     "metadata": {},
     "output_type": "execute_result"
    }
   ],
   "source": [
    "c_d = scipy.stats.norm.cdf(182, 174, 8) - scipy.stats.norm.cdf(166, 174, 8)\n",
    "c_d"
   ]
  },
  {
   "cell_type": "code",
   "execution_count": 95,
   "id": "2ecaecbe",
   "metadata": {},
   "outputs": [
    {
     "data": {
      "text/plain": [
       "0.9544997361036416"
      ]
     },
     "execution_count": 95,
     "metadata": {},
     "output_type": "execute_result"
    }
   ],
   "source": [
    "c_e = scipy.stats.norm.cdf(190, 174, 8) - scipy.stats.norm.cdf(158, 174, 8)\n",
    "c_e"
   ]
  },
  {
   "cell_type": "code",
   "execution_count": 98,
   "id": "5f72ac82",
   "metadata": {},
   "outputs": [
    {
     "data": {
      "text/plain": [
       "0.0241000299798092"
      ]
     },
     "execution_count": 98,
     "metadata": {},
     "output_type": "execute_result"
    }
   ],
   "source": [
    "c_f = scipy.stats.norm.cdf(150, 174, 8) + 1 - scipy.stats.norm.cdf(190, 174, 8)\n",
    "c_f"
   ]
  },
  {
   "cell_type": "code",
   "execution_count": 99,
   "id": "95a6e14a",
   "metadata": {},
   "outputs": [
    {
     "data": {
      "text/plain": [
       "0.002699796063260096"
      ]
     },
     "execution_count": 99,
     "metadata": {},
     "output_type": "execute_result"
    }
   ],
   "source": [
    "c_g = scipy.stats.norm.cdf(150, 174, 8) + 1 - scipy.stats.norm.cdf(198, 174, 8)\n",
    "c_g"
   ]
  },
  {
   "cell_type": "code",
   "execution_count": 100,
   "id": "14e71dec",
   "metadata": {},
   "outputs": [
    {
     "data": {
      "text/plain": [
       "0.15865525393145707"
      ]
     },
     "execution_count": 100,
     "metadata": {},
     "output_type": "execute_result"
    }
   ],
   "source": [
    "c_h = scipy.stats.norm.cdf(166, 174, 8)\n",
    "c_h"
   ]
  },
  {
   "cell_type": "markdown",
   "id": "67c11bc4",
   "metadata": {},
   "source": [
    "5. На сколько сигм (средних квадратичных отклонений) отклоняется рост человека, равный 190 см, от\n",
    "математического ожидания роста в популяции, в которой M(X) = 178 см и D(X) = 25 кв.см?"
   ]
  },
  {
   "cell_type": "code",
   "execution_count": 101,
   "id": "ed77a5b5",
   "metadata": {},
   "outputs": [
    {
     "data": {
      "text/plain": [
       "2.4"
      ]
     },
     "execution_count": 101,
     "metadata": {},
     "output_type": "execute_result"
    }
   ],
   "source": [
    "d = (190 - 178) / 5\n",
    "d"
   ]
  },
  {
   "cell_type": "markdown",
   "id": "b642fc18",
   "metadata": {},
   "source": [
    "не могли бы вы объяснить, почему в формуле нормального распределения число е находится в степени -(x-a)**2/2D(X) а не 2D(X)/(x-a)**2"
   ]
  }
 ],
 "metadata": {
  "kernelspec": {
   "display_name": "Python 3",
   "language": "python",
   "name": "python3"
  },
  "language_info": {
   "codemirror_mode": {
    "name": "ipython",
    "version": 3
   },
   "file_extension": ".py",
   "mimetype": "text/x-python",
   "name": "python",
   "nbconvert_exporter": "python",
   "pygments_lexer": "ipython3",
   "version": "3.8.8"
  }
 },
 "nbformat": 4,
 "nbformat_minor": 5
}
