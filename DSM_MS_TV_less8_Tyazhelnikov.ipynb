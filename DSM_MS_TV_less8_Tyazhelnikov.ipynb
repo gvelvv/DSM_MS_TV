{
 "cells": [
  {
   "cell_type": "markdown",
   "id": "264e3dd6",
   "metadata": {},
   "source": [
    "1. Провести дисперсионный анализ для определения того, есть ли различия среднего роста среди взрослых футболистов, хоккеистов и штангистов. Даны значения роста в трех группах случайно выбранных спортсменов: Футболисты: 173, 175, 180, 178, 177, 185, 183, 182. Хоккеисты: 177, 179, 180, 188, 177, 172, 171, 184, 180. Штангисты: 172, 173, 169, 177, 166, 180, 178, 177, 172, 166, 170."
   ]
  },
  {
   "cell_type": "code",
   "execution_count": 3,
   "id": "4876eea7",
   "metadata": {},
   "outputs": [],
   "source": [
    "import numpy as np\n",
    "from scipy import stats"
   ]
  },
  {
   "cell_type": "code",
   "execution_count": 5,
   "id": "5ff22e98",
   "metadata": {},
   "outputs": [
    {
     "data": {
      "text/plain": [
       "28"
      ]
     },
     "execution_count": 5,
     "metadata": {},
     "output_type": "execute_result"
    }
   ],
   "source": [
    "fb = np.array([173, 175, 180, 178, 177, 185, 183, 182])\n",
    "hc = np.array([177, 179, 180, 188, 177, 172, 171, 184, 180])\n",
    "bb = np.array([172, 173, 169, 177, 166, 180, 178, 177, 172, 166, 170])\n",
    "n = len(fb) + len(hc) + len(bb)"
   ]
  },
  {
   "cell_type": "code",
   "execution_count": 4,
   "id": "7fb060ab",
   "metadata": {},
   "outputs": [
    {
     "data": {
      "text/plain": [
       "F_onewayResult(statistic=5.500053450812596, pvalue=0.010482206918698694)"
      ]
     },
     "execution_count": 4,
     "metadata": {},
     "output_type": "execute_result"
    }
   ],
   "source": [
    "stats.f_oneway(fb, hc, bb)"
   ]
  },
  {
   "cell_type": "markdown",
   "id": "d8d791e8",
   "metadata": {},
   "source": [
    "5.5 > 3.83 (table), p-val < 0.05 => статистически значимая разница в росте есть с уровнем значимости 0.05"
   ]
  }
 ],
 "metadata": {
  "kernelspec": {
   "display_name": "Python 3",
   "language": "python",
   "name": "python3"
  },
  "language_info": {
   "codemirror_mode": {
    "name": "ipython",
    "version": 3
   },
   "file_extension": ".py",
   "mimetype": "text/x-python",
   "name": "python",
   "nbconvert_exporter": "python",
   "pygments_lexer": "ipython3",
   "version": "3.8.8"
  }
 },
 "nbformat": 4,
 "nbformat_minor": 5
}
