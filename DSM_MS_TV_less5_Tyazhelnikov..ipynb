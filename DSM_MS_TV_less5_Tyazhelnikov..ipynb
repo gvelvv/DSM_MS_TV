{
 "cells": [
  {
   "cell_type": "markdown",
   "id": "4ebde475",
   "metadata": {},
   "source": [
    "1. Известно, что генеральная совокупность распределена нормально\n",
    "со средним квадратическим отклонением, равным 16.\n",
    "Найти доверительный интервал для оценки математического ожидания a с надежностью 0.95,\n",
    "если выборочная средняя M = 80, а объем выборки n = 256."
   ]
  },
  {
   "cell_type": "code",
   "execution_count": 1,
   "id": "22a4b780",
   "metadata": {},
   "outputs": [],
   "source": [
    "import numpy as np\n",
    "import math as math"
   ]
  },
  {
   "cell_type": "code",
   "execution_count": 4,
   "id": "15fd2c6f",
   "metadata": {},
   "outputs": [
    {
     "name": "stdout",
     "output_type": "stream",
     "text": [
      "confidence interval 76.864 - 83.136\n"
     ]
    }
   ],
   "source": [
    "a_1 = 80 - 1.96 * 16/10\n",
    "a_2 = 80 + 1.96 * 16/10\n",
    "print(f'confidence interval {a_1} - {a_2}')"
   ]
  },
  {
   "cell_type": "markdown",
   "id": "78041ef2",
   "metadata": {},
   "source": [
    "2. В результате 10 независимых измерений некоторой величины X, выполненных с одинаковой точностью,\n",
    "получены опытные данные:\n",
    "6.9, 6.1, 6.2, 6.8, 7.5, 6.3, 6.4, 6.9, 6.7, 6.1\n",
    "Предполагая, что результаты измерений подчинены нормальному закону распределения вероятностей,\n",
    "оценить истинное значение величины X при помощи доверительного интервала, покрывающего это\n",
    "значение с доверительной вероятностью 0,95."
   ]
  },
  {
   "cell_type": "code",
   "execution_count": 14,
   "id": "83369b5a",
   "metadata": {},
   "outputs": [
    {
     "name": "stdout",
     "output_type": "stream",
     "text": [
      "confidence interval 6.267538255912426 - 6.912461744087575\n"
     ]
    }
   ],
   "source": [
    "b = np.array([6.9, 6.1, 6.2, 6.8, 7.5, 6.3, 6.4, 6.9, 6.7, 6.1])\n",
    "b_aver = np.average(b)\n",
    "b_aver\n",
    "b_std = np.std(b, ddof=1)\n",
    "b_std\n",
    "b_1 = b_aver - 2.262 * b_std/math.sqrt(10)\n",
    "b_2 = b_aver + 2.262 * b_std/math.sqrt(10)\n",
    "print(f'confidence interval {b_1} - {b_2}')"
   ]
  },
  {
   "cell_type": "markdown",
   "id": "fa2d5085",
   "metadata": {},
   "source": [
    "3. Утверждается, что шарики для подшипников, изготовленные автоматическим станком, имеют средний диаметр 17 мм.\n",
    "Используя односторонний критерий с α=0,05, проверить эту гипотезу, если в выборке из n=100 шариков средний диаметр\n",
    "оказался равным 17.5 мм, а дисперсия известна и равна 4 кв. мм."
   ]
  },
  {
   "cell_type": "code",
   "execution_count": 15,
   "id": "b92d89a0",
   "metadata": {},
   "outputs": [
    {
     "data": {
      "text/plain": [
       "1.25"
      ]
     },
     "execution_count": 15,
     "metadata": {},
     "output_type": "execute_result"
    }
   ],
   "source": [
    "c_z_r = (17.5 - 17) / (4/10)\n",
    "c_z_r"
   ]
  },
  {
   "cell_type": "markdown",
   "id": "85620caf",
   "metadata": {},
   "source": [
    "1.25 < 1.65, H0 = True"
   ]
  },
  {
   "cell_type": "markdown",
   "id": "d3fc6cf6",
   "metadata": {},
   "source": [
    "4. Продавец утверждает, что средний вес пачки печенья составляет 200 г.\n",
    "Из партии извлечена выборка из 10 пачек. Вес каждой пачки составляет:\n",
    "202, 203, 199, 197, 195, 201, 200, 204, 194, 190.\n",
    "Известно, что их веса распределены нормально.\n",
    "Верно ли утверждение продавца, если учитывать, что доверительная вероятность равна 99%?"
   ]
  },
  {
   "cell_type": "code",
   "execution_count": 22,
   "id": "e66ad0a2",
   "metadata": {},
   "outputs": [
    {
     "data": {
      "text/plain": [
       "1.1227217828476797"
      ]
     },
     "execution_count": 22,
     "metadata": {},
     "output_type": "execute_result"
    }
   ],
   "source": [
    "d = np.array([202, 203, 199, 197, 195, 201, 200, 204, 194, 190])\n",
    "d_aver = np.average(d)\n",
    "d_std = np.std(d)\n",
    "d_t_r = (200 - d_aver) / (d_std/np.sqrt(10))\n",
    "d_t_r"
   ]
  },
  {
   "cell_type": "markdown",
   "id": "980a768f",
   "metadata": {},
   "source": [
    "1.12 < 2.82, H0 = True"
   ]
  }
 ],
 "metadata": {
  "kernelspec": {
   "display_name": "Python 3",
   "language": "python",
   "name": "python3"
  },
  "language_info": {
   "codemirror_mode": {
    "name": "ipython",
    "version": 3
   },
   "file_extension": ".py",
   "mimetype": "text/x-python",
   "name": "python",
   "nbconvert_exporter": "python",
   "pygments_lexer": "ipython3",
   "version": "3.8.8"
  }
 },
 "nbformat": 4,
 "nbformat_minor": 5
}
